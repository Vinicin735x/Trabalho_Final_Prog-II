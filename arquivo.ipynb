{
 "cells": [
  {
   "cell_type": "code",
   "execution_count": 5,
   "metadata": {},
   "outputs": [],
   "source": [
    "import numpy as np\n",
    "import matplotlib.pyplot as plt\n",
    "import pandas as pd\n",
    "import scipy.stats as st\n",
    "\n",
    "import seaborn as sns ##Importação para aumentar as capacidades de plot\n",
    "sns.set_theme() ##Colocando o tema padrão do Seaborn\n",
    "sns.set_style('whitegrid')\n",
    "\n",
    "import missingno as msno\n",
    "\n",
    "from sklearn.preprocessing import StandardScaler\n",
    "from scipy import stats\n",
    "\n",
    "df = pd.read_csv(filepath_or_buffer='./Nvidia_stock_data.csv')"
   ]
  },
  {
   "cell_type": "code",
   "execution_count": 6,
   "metadata": {},
   "outputs": [
    {
     "name": "stdout",
     "output_type": "stream",
     "text": [
      "            Date       Close        High         Low        Open      Volume\n",
      "0     1999-01-22    0.037612    0.044775    0.035581    0.040119  2714688000\n",
      "1     1999-01-25    0.041552    0.042029    0.037612    0.040597   510480000\n",
      "2     1999-01-26    0.038328    0.042865    0.037731    0.042029   343200000\n",
      "3     1999-01-27    0.038209    0.039403    0.036298    0.038447   244368000\n",
      "4     1999-01-28    0.038089    0.038447    0.037850    0.038209   227520000\n",
      "...          ...         ...         ...         ...         ...         ...\n",
      "6632  2025-06-04  141.919998  142.389999  139.539993  142.190002   167120800\n",
      "6633  2025-06-05  139.990005  144.000000  138.830002  142.169998   231397900\n",
      "6634  2025-06-06  141.720001  143.270004  141.509995  142.509995   153986200\n",
      "6635  2025-06-09  142.630005  145.000000  141.940002  143.190002   185114500\n",
      "6636  2025-06-10  143.960007  144.289993  141.529999  142.690002   155372400\n",
      "\n",
      "[6637 rows x 6 columns]\n"
     ]
    }
   ],
   "source": [
    "print(df) #Não excluir"
   ]
  }
 ],
 "metadata": {
  "kernelspec": {
   "display_name": "Python 3",
   "language": "python",
   "name": "python3"
  },
  "language_info": {
   "codemirror_mode": {
    "name": "ipython",
    "version": 3
   },
   "file_extension": ".py",
   "mimetype": "text/x-python",
   "name": "python",
   "nbconvert_exporter": "python",
   "pygments_lexer": "ipython3",
   "version": "3.10.12"
  }
 },
 "nbformat": 4,
 "nbformat_minor": 2
}
