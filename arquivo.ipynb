{
 "cells": [
  {
   "cell_type": "markdown",
   "metadata": {},
   "source": [
    "Nos últimos anos, especialmente a partir de 2020, o setor de tecnologia tem vivenciado uma aceleração sem precedentes no desenvolvimento e na adoção de soluções baseadas em Inteligência Artificial (IA). Nesse cenário, a NVIDIA se consolidou como uma das empresas mais relevantes do mercado, fornecendo hardware essencial (como GPUs) para o treinamento e a execução de modelos de IA."
   ]
  },
  {
   "cell_type": "code",
   "execution_count": 1,
   "metadata": {},
   "outputs": [],
   "source": [
    "import numpy as np\n",
    "import matplotlib.pyplot as plt\n",
    "import pandas as pd\n",
    "import scipy.stats as st\n",
    "\n",
    "import seaborn as sns ##Importação para aumentar as capacidades de plot\n",
    "sns.set_theme() ##Colocando o tema padrão do Seaborn\n",
    "sns.set_style('whitegrid')\n",
    "\n",
    "import missingno as msno\n",
    "\n",
    "from sklearn.preprocessing import StandardScaler\n",
    "from scipy import stats\n",
    "\n",
    "df = pd.read_csv(filepath_or_buffer='./Nvidia_stock_data.csv')"
   ]
  },
  {
   "cell_type": "markdown",
   "metadata": {},
   "source": [
    "Este arquivo contém dados históricos diários do mercado de ações da NVIDIA Corporation. Ele registra o desempenho e a atividade de negociação das ações da NVIDIA, fornecendo informações abrangentes adequadas para fins de análise, modelagem e educacionais.\n"
   ]
  },
  {
   "cell_type": "markdown",
   "metadata": {},
   "source": [
    "Abaixo estão as descrições de cada coluna do arquivo:\n",
    "\n",
    "Data: A data específica do calendário para a sessão de negociação, formatada como AAAA-MM-DD.\n",
    "\n",
    "Fechamento: O preço pelo qual as ações da NVIDIA fecharam no final do dia de negociação.\n",
    "\n",
    "Máxima: O preço mais alto atingido pelas ações da NVIDIA durante a sessão de negociação.\n",
    "\n",
    "Mínima: O preço mais baixo registrado para as ações da NVIDIA durante a sessão de negociação.\n",
    "\n",
    "Abertura: O preço pelo qual as ações da NVIDIA abriram no início do dia de negociação.\n",
    "\n",
    "Volume: O número total de ações da NVIDIA negociadas naquele dia específico."
   ]
  },
  {
   "cell_type": "code",
   "execution_count": 2,
   "metadata": {},
   "outputs": [
    {
     "name": "stdout",
     "output_type": "stream",
     "text": [
      "            Date       Close        High         Low        Open      Volume\n",
      "0     1999-01-22    0.037612    0.044775    0.035581    0.040119  2714688000\n",
      "1     1999-01-25    0.041552    0.042029    0.037612    0.040597   510480000\n",
      "2     1999-01-26    0.038328    0.042865    0.037731    0.042029   343200000\n",
      "3     1999-01-27    0.038209    0.039403    0.036298    0.038447   244368000\n",
      "4     1999-01-28    0.038089    0.038447    0.037850    0.038209   227520000\n",
      "...          ...         ...         ...         ...         ...         ...\n",
      "6632  2025-06-04  141.919998  142.389999  139.539993  142.190002   167120800\n",
      "6633  2025-06-05  139.990005  144.000000  138.830002  142.169998   231397900\n",
      "6634  2025-06-06  141.720001  143.270004  141.509995  142.509995   153986200\n",
      "6635  2025-06-09  142.630005  145.000000  141.940002  143.190002   185114500\n",
      "6636  2025-06-10  143.960007  144.289993  141.529999  142.690002   155372400\n",
      "\n",
      "[6637 rows x 6 columns]\n"
     ]
    }
   ],
   "source": [
    "print(df) #Não excluir"
   ]
  },
  {
   "cell_type": "markdown",
   "metadata": {},
   "source": [
    "Tese 1:\n",
    "📈 \"A volatilidade (desvio padrão dos preços) aumentou significativamente após 2020.\"\n",
    "Estatísticas: desvio padrão diário do preço de fechamento por ano."
   ]
  },
  {
   "cell_type": "code",
   "execution_count": 3,
   "metadata": {},
   "outputs": [
    {
     "data": {
      "text/html": [
       "<div>\n",
       "<style scoped>\n",
       "    .dataframe tbody tr th:only-of-type {\n",
       "        vertical-align: middle;\n",
       "    }\n",
       "\n",
       "    .dataframe tbody tr th {\n",
       "        vertical-align: top;\n",
       "    }\n",
       "\n",
       "    .dataframe thead th {\n",
       "        text-align: right;\n",
       "    }\n",
       "</style>\n",
       "<table border=\"1\" class=\"dataframe\">\n",
       "  <thead>\n",
       "    <tr style=\"text-align: right;\">\n",
       "      <th></th>\n",
       "      <th>Date</th>\n",
       "      <th>Close</th>\n",
       "      <th>High</th>\n",
       "      <th>Low</th>\n",
       "      <th>Open</th>\n",
       "      <th>Volume</th>\n",
       "    </tr>\n",
       "  </thead>\n",
       "  <tbody>\n",
       "    <tr>\n",
       "      <th>0</th>\n",
       "      <td>1999-01-22</td>\n",
       "      <td>0.037612</td>\n",
       "      <td>0.044775</td>\n",
       "      <td>0.035581</td>\n",
       "      <td>0.040119</td>\n",
       "      <td>2714688000</td>\n",
       "    </tr>\n",
       "    <tr>\n",
       "      <th>1</th>\n",
       "      <td>1999-01-25</td>\n",
       "      <td>0.041552</td>\n",
       "      <td>0.042029</td>\n",
       "      <td>0.037612</td>\n",
       "      <td>0.040597</td>\n",
       "      <td>510480000</td>\n",
       "    </tr>\n",
       "    <tr>\n",
       "      <th>2</th>\n",
       "      <td>1999-01-26</td>\n",
       "      <td>0.038328</td>\n",
       "      <td>0.042865</td>\n",
       "      <td>0.037731</td>\n",
       "      <td>0.042029</td>\n",
       "      <td>343200000</td>\n",
       "    </tr>\n",
       "    <tr>\n",
       "      <th>3</th>\n",
       "      <td>1999-01-27</td>\n",
       "      <td>0.038209</td>\n",
       "      <td>0.039403</td>\n",
       "      <td>0.036298</td>\n",
       "      <td>0.038447</td>\n",
       "      <td>244368000</td>\n",
       "    </tr>\n",
       "    <tr>\n",
       "      <th>4</th>\n",
       "      <td>1999-01-28</td>\n",
       "      <td>0.038089</td>\n",
       "      <td>0.038447</td>\n",
       "      <td>0.037850</td>\n",
       "      <td>0.038209</td>\n",
       "      <td>227520000</td>\n",
       "    </tr>\n",
       "  </tbody>\n",
       "</table>\n",
       "</div>"
      ],
      "text/plain": [
       "         Date     Close      High       Low      Open      Volume\n",
       "0  1999-01-22  0.037612  0.044775  0.035581  0.040119  2714688000\n",
       "1  1999-01-25  0.041552  0.042029  0.037612  0.040597   510480000\n",
       "2  1999-01-26  0.038328  0.042865  0.037731  0.042029   343200000\n",
       "3  1999-01-27  0.038209  0.039403  0.036298  0.038447   244368000\n",
       "4  1999-01-28  0.038089  0.038447  0.037850  0.038209   227520000"
      ]
     },
     "execution_count": 3,
     "metadata": {},
     "output_type": "execute_result"
    }
   ],
   "source": [
    "df.head()"
   ]
  },
  {
   "cell_type": "markdown",
   "metadata": {},
   "source": [
    "Análises descritivas dos dados"
   ]
  },
  {
   "cell_type": "code",
   "execution_count": 9,
   "metadata": {},
   "outputs": [
    {
     "data": {
      "text/html": [
       "<div>\n",
       "<style scoped>\n",
       "    .dataframe tbody tr th:only-of-type {\n",
       "        vertical-align: middle;\n",
       "    }\n",
       "\n",
       "    .dataframe tbody tr th {\n",
       "        vertical-align: top;\n",
       "    }\n",
       "\n",
       "    .dataframe thead th {\n",
       "        text-align: right;\n",
       "    }\n",
       "</style>\n",
       "<table border=\"1\" class=\"dataframe\">\n",
       "  <thead>\n",
       "    <tr style=\"text-align: right;\">\n",
       "      <th></th>\n",
       "      <th>Close</th>\n",
       "      <th>High</th>\n",
       "      <th>Low</th>\n",
       "      <th>Open</th>\n",
       "      <th>Volume</th>\n",
       "    </tr>\n",
       "  </thead>\n",
       "  <tbody>\n",
       "    <tr>\n",
       "      <th>count</th>\n",
       "      <td>6637.000000</td>\n",
       "      <td>6637.000000</td>\n",
       "      <td>6637.000000</td>\n",
       "      <td>6637.000000</td>\n",
       "      <td>6.637000e+03</td>\n",
       "    </tr>\n",
       "    <tr>\n",
       "      <th>mean</th>\n",
       "      <td>10.091263</td>\n",
       "      <td>10.279293</td>\n",
       "      <td>9.885371</td>\n",
       "      <td>10.091765</td>\n",
       "      <td>5.952182e+08</td>\n",
       "    </tr>\n",
       "    <tr>\n",
       "      <th>std</th>\n",
       "      <td>26.686641</td>\n",
       "      <td>27.192558</td>\n",
       "      <td>26.140134</td>\n",
       "      <td>26.706411</td>\n",
       "      <td>4.297521e+08</td>\n",
       "    </tr>\n",
       "    <tr>\n",
       "      <th>min</th>\n",
       "      <td>0.031283</td>\n",
       "      <td>0.032597</td>\n",
       "      <td>0.030566</td>\n",
       "      <td>0.032000</td>\n",
       "      <td>1.968000e+07</td>\n",
       "    </tr>\n",
       "    <tr>\n",
       "      <th>25%</th>\n",
       "      <td>0.259741</td>\n",
       "      <td>0.266981</td>\n",
       "      <td>0.251946</td>\n",
       "      <td>0.259053</td>\n",
       "      <td>3.333360e+08</td>\n",
       "    </tr>\n",
       "    <tr>\n",
       "      <th>50%</th>\n",
       "      <td>0.440848</td>\n",
       "      <td>0.447144</td>\n",
       "      <td>0.434353</td>\n",
       "      <td>0.440676</td>\n",
       "      <td>4.961320e+08</td>\n",
       "    </tr>\n",
       "    <tr>\n",
       "      <th>75%</th>\n",
       "      <td>4.888134</td>\n",
       "      <td>4.957336</td>\n",
       "      <td>4.810735</td>\n",
       "      <td>4.895365</td>\n",
       "      <td>7.269720e+08</td>\n",
       "    </tr>\n",
       "    <tr>\n",
       "      <th>max</th>\n",
       "      <td>149.416245</td>\n",
       "      <td>153.115916</td>\n",
       "      <td>147.806407</td>\n",
       "      <td>153.015919</td>\n",
       "      <td>9.230856e+09</td>\n",
       "    </tr>\n",
       "  </tbody>\n",
       "</table>\n",
       "</div>"
      ],
      "text/plain": [
       "             Close         High          Low         Open        Volume\n",
       "count  6637.000000  6637.000000  6637.000000  6637.000000  6.637000e+03\n",
       "mean     10.091263    10.279293     9.885371    10.091765  5.952182e+08\n",
       "std      26.686641    27.192558    26.140134    26.706411  4.297521e+08\n",
       "min       0.031283     0.032597     0.030566     0.032000  1.968000e+07\n",
       "25%       0.259741     0.266981     0.251946     0.259053  3.333360e+08\n",
       "50%       0.440848     0.447144     0.434353     0.440676  4.961320e+08\n",
       "75%       4.888134     4.957336     4.810735     4.895365  7.269720e+08\n",
       "max     149.416245   153.115916   147.806407   153.015919  9.230856e+09"
      ]
     },
     "execution_count": 9,
     "metadata": {},
     "output_type": "execute_result"
    }
   ],
   "source": [
    "df.describe()"
   ]
  },
  {
   "cell_type": "markdown",
   "metadata": {},
   "source": [
    "📊 Estatísticas descritivas por período (antes e depois de 2020)\n"
   ]
  },
  {
   "cell_type": "code",
   "execution_count": 14,
   "metadata": {},
   "outputs": [
    {
     "data": {
      "text/html": [
       "<div>\n",
       "<style scoped>\n",
       "    .dataframe tbody tr th:only-of-type {\n",
       "        vertical-align: middle;\n",
       "    }\n",
       "\n",
       "    .dataframe tbody tr th {\n",
       "        vertical-align: top;\n",
       "    }\n",
       "\n",
       "    .dataframe thead th {\n",
       "        text-align: right;\n",
       "    }\n",
       "</style>\n",
       "<table border=\"1\" class=\"dataframe\">\n",
       "  <thead>\n",
       "    <tr style=\"text-align: right;\">\n",
       "      <th></th>\n",
       "      <th>count</th>\n",
       "      <th>mean</th>\n",
       "      <th>std</th>\n",
       "      <th>min</th>\n",
       "      <th>25%</th>\n",
       "      <th>50%</th>\n",
       "      <th>75%</th>\n",
       "      <th>max</th>\n",
       "    </tr>\n",
       "    <tr>\n",
       "      <th>Period</th>\n",
       "      <th></th>\n",
       "      <th></th>\n",
       "      <th></th>\n",
       "      <th></th>\n",
       "      <th></th>\n",
       "      <th></th>\n",
       "      <th></th>\n",
       "      <th></th>\n",
       "    </tr>\n",
       "  </thead>\n",
       "  <tbody>\n",
       "    <tr>\n",
       "      <th>2020_em_diante</th>\n",
       "      <td>1367.0</td>\n",
       "      <td>1.787838</td>\n",
       "      <td>2.147034</td>\n",
       "      <td>0.059495</td>\n",
       "      <td>0.487244</td>\n",
       "      <td>0.899264</td>\n",
       "      <td>2.282643</td>\n",
       "      <td>17.570000</td>\n",
       "    </tr>\n",
       "    <tr>\n",
       "      <th>Antes_2020</th>\n",
       "      <td>5270.0</td>\n",
       "      <td>0.032351</td>\n",
       "      <td>0.056534</td>\n",
       "      <td>0.000358</td>\n",
       "      <td>0.007187</td>\n",
       "      <td>0.012762</td>\n",
       "      <td>0.024454</td>\n",
       "      <td>0.745998</td>\n",
       "    </tr>\n",
       "  </tbody>\n",
       "</table>\n",
       "</div>"
      ],
      "text/plain": [
       "                 count      mean       std       min       25%       50%  \\\n",
       "Period                                                                     \n",
       "2020_em_diante  1367.0  1.787838  2.147034  0.059495  0.487244  0.899264   \n",
       "Antes_2020      5270.0  0.032351  0.056534  0.000358  0.007187  0.012762   \n",
       "\n",
       "                     75%        max  \n",
       "Period                               \n",
       "2020_em_diante  2.282643  17.570000  \n",
       "Antes_2020      0.024454   0.745998  "
      ]
     },
     "execution_count": 14,
     "metadata": {},
     "output_type": "execute_result"
    }
   ],
   "source": [
    "# Criar coluna de volatilidade diária\n",
    "df['Daily_Amplitude'] = df['High'] - df['Low']\n",
    "\n",
    "# Criar coluna de período categórico\n",
    "df['Period'] = np.where(df['Date'].dt.year < 2020, 'Antes_2020', '2020_em_diante')\n",
    "\n",
    "# Estatísticas descritivas da volatilidade\n",
    "df.groupby('Period')['Daily_Amplitude'].describe()"
   ]
  },
  {
   "cell_type": "markdown",
   "metadata": {},
   "source": [
    "📈 Gráficos para visualização da volatilidade"
   ]
  },
  {
   "cell_type": "code",
   "execution_count": 26,
   "metadata": {},
   "outputs": [
    {
     "data": {
      "image/png": "[encoded data removed]",
      "text/plain": [
       "<Figure size 720x432 with 1 Axes>"
      ]
     },
     "metadata": {
      "needs_background": "light"
     },
     "output_type": "display_data"
    },
    {
     "data": {
      "image/png": "[encoded data removed]",
      "text/plain": [
       "<Figure size 720x432 with 1 Axes>"
      ]
     },
     "metadata": {
      "needs_background": "light"
     },
     "output_type": "display_data"
    }
   ],
   "source": [
    "# Boxplot comparando a amplitude diária antes e depois de 2020\n",
    "plt.figure(figsize=(10,6))\n",
    "sns.boxplot(x='Period', y='Daily_Amplitude', data=df)\n",
    "plt.title('Distribuição da Volatilidade Diária da Ação da NVIDIA')\n",
    "plt.xlabel('Período')\n",
    "plt.ylabel('Amplitude Diária (High - Low)')\n",
    "plt.show()\n",
    "\n",
    "# Histograma das amplitudes diárias por período\n",
    "plt.figure(figsize=(10,6))\n",
    "sns.histplot(data=df, x='Daily_Amplitude', hue='Period', kde=True, bins=50)\n",
    "plt.title('Histograma da Volatilidade Diária por Período')\n",
    "plt.xlabel('Amplitude Diária')\n",
    "plt.ylabel('Frequência')\n",
    "plt.show()"
   ]
  },
  {
   "cell_type": "markdown",
   "metadata": {},
   "source": [
    "📐 4. Skewness e Kurtosis"
   ]
  },
  {
   "cell_type": "code",
   "execution_count": 27,
   "metadata": {},
   "outputs": [
    {
     "name": "stdout",
     "output_type": "stream",
     "text": [
      "Skewness Antes de 2020: 4.265359303708148\n",
      "Skewness Após 2020: 2.557954082992698\n",
      "Kurtosis Antes de 2020: 27.60819840849048\n",
      "Kurtosis Após 2020: 8.685953545970792\n"
     ]
    }
   ],
   "source": [
    "# Separar os dois períodos\n",
    "antes_2020 = df[df['Period'] == 'Antes_2020']['Daily_Amplitude'].dropna()\n",
    "apos_2020 = df[df['Period'] == '2020_em_diante']['Daily_Amplitude'].dropna()\n",
    "\n",
    "# Skewness\n",
    "print(\"Skewness Antes de 2020:\", stats.skew(antes_2020))\n",
    "print(\"Skewness Após 2020:\", stats.skew(apos_2020))\n",
    "\n",
    "# Kurtosis\n",
    "print(\"Kurtosis Antes de 2020:\", stats.kurtosis(antes_2020))\n",
    "print(\"Kurtosis Após 2020:\", stats.kurtosis(apos_2020))"
   ]
  },
  {
   "cell_type": "markdown",
   "metadata": {},
   "source": [
    "✅ Gráfico 1: Distribuição + Skewness"
   ]
  },
  {
   "cell_type": "code",
   "execution_count": 29,
   "metadata": {},
   "outputs": [
    {
     "data": {
      "image/png": "[encoded data removed]",
      "text/plain": [
       "<Figure size 576x432 with 1 Axes>"
      ]
     },
     "metadata": {
      "needs_background": "light"
     },
     "output_type": "display_data"
    }
   ],
   "source": [
    "# Remover valores ausentes\n",
    "nvidia_vol = df['Daily_Amplitude'].dropna()\n",
    "\n",
    "# Calcular skewness\n",
    "skew_nvidia = nvidia_vol.skew()\n",
    "\n",
    "# Plotar histograma com KDE para Skewness\n",
    "plt.figure(figsize=(8, 6))\n",
    "sns.histplot(nvidia_vol, bins=30, kde=True, color='teal', stat='density')\n",
    "plt.title(f\"Distribuição da Volatilidade Diária (Skewness: {skew_nvidia:.2f})\")\n",
    "plt.xlabel(\"Amplitude Diária (High - Low)\")\n",
    "plt.ylabel(\"Densidade\")\n",
    "plt.axvline(nvidia_vol.mean(), color='red', linestyle='--', label='Média')\n",
    "plt.axvline(nvidia_vol.median(), color='green', linestyle='--', label='Mediana')\n",
    "plt.legend()\n",
    "plt.tight_layout()\n",
    "plt.show()"
   ]
  },
  {
   "cell_type": "markdown",
   "metadata": {},
   "source": [
    "✅ Gráfico 2: Boxplot + Kurtosis"
   ]
  },
  {
   "cell_type": "code",
   "execution_count": 30,
   "metadata": {},
   "outputs": [
    {
     "data": {
      "image/png": "[encoded data removed]",
      "text/plain": [
       "<Figure size 432x288 with 1 Axes>"
      ]
     },
     "metadata": {
      "needs_background": "light"
     },
     "output_type": "display_data"
    }
   ],
   "source": [
    "# Calcular kurtosis\n",
    "kurt_nvidia = nvidia_vol.kurt()\n",
    "\n",
    "# Plotar boxplot para visualizar curtose (caudas)\n",
    "plt.figure(figsize=(6, 4))\n",
    "sns.boxplot(x=nvidia_vol, color='orchid')\n",
    "plt.title(f\"Boxplot da Volatilidade Diária (Kurtosis: {kurt_nvidia:.2f})\")\n",
    "plt.xlabel(\"Amplitude Diária (High - Low)\")\n",
    "plt.tight_layout()\n",
    "plt.show()"
   ]
  }
 ],
 "metadata": {
  "kernelspec": {
   "display_name": "Python 3",
   "language": "python",
   "name": "python3"
  },
  "language_info": {
   "codemirror_mode": {
    "name": "ipython",
    "version": 3
   },
   "file_extension": ".py",
   "mimetype": "text/x-python",
   "name": "python",
   "nbconvert_exporter": "python",
   "pygments_lexer": "ipython3",
   "version": "3.10.12"
  }
 },
 "nbformat": 4,
 "nbformat_minor": 2
}
